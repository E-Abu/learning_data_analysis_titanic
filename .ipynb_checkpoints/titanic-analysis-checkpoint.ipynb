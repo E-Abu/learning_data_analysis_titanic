{
 "cells": [
  {
   "cell_type": "markdown",
   "metadata": {},
   "source": [
    "# Data Explore of Titanic passengers\n",
    "\n",
    "\n",
    "This document include four parts: \n",
    "1. **preparation:** to observe and clean up datas. \n",
    "2. **question:** to ask quetion, and suggest hypothesises\n",
    "3. **analysis processing:** \n",
    "\n",
    "The results are all temporary, and maybe mistaken. Further improvments are needed.\n",
    " \n",
    "\n",
    "## preparation\n",
    "\n",
    "I am interested in data of Titanic passengers. I downloaded it and print the first few lines to take a quick look."
   ]
  },
  {
   "cell_type": "code",
   "execution_count": 1,
   "metadata": {},
   "outputs": [],
   "source": [
    "import pandas as pd\n",
    "import numpy as np\n",
    "titanic_data = pd.read_csv('titanic-data.csv')"
   ]
  },
  {
   "cell_type": "code",
   "execution_count": 2,
   "metadata": {},
   "outputs": [
    {
     "data": {
      "text/html": [
       "<div>\n",
       "<style scoped>\n",
       "    .dataframe tbody tr th:only-of-type {\n",
       "        vertical-align: middle;\n",
       "    }\n",
       "\n",
       "    .dataframe tbody tr th {\n",
       "        vertical-align: top;\n",
       "    }\n",
       "\n",
       "    .dataframe thead th {\n",
       "        text-align: right;\n",
       "    }\n",
       "</style>\n",
       "<table border=\"1\" class=\"dataframe\">\n",
       "  <thead>\n",
       "    <tr style=\"text-align: right;\">\n",
       "      <th></th>\n",
       "      <th>PassengerId</th>\n",
       "      <th>Survived</th>\n",
       "      <th>Pclass</th>\n",
       "      <th>Name</th>\n",
       "      <th>Sex</th>\n",
       "      <th>Age</th>\n",
       "      <th>SibSp</th>\n",
       "      <th>Parch</th>\n",
       "      <th>Ticket</th>\n",
       "      <th>Fare</th>\n",
       "      <th>Cabin</th>\n",
       "      <th>Embarked</th>\n",
       "    </tr>\n",
       "  </thead>\n",
       "  <tbody>\n",
       "    <tr>\n",
       "      <th>0</th>\n",
       "      <td>1</td>\n",
       "      <td>0</td>\n",
       "      <td>3</td>\n",
       "      <td>Braund, Mr. Owen Harris</td>\n",
       "      <td>male</td>\n",
       "      <td>22.0</td>\n",
       "      <td>1</td>\n",
       "      <td>0</td>\n",
       "      <td>A/5 21171</td>\n",
       "      <td>7.2500</td>\n",
       "      <td>NaN</td>\n",
       "      <td>S</td>\n",
       "    </tr>\n",
       "    <tr>\n",
       "      <th>1</th>\n",
       "      <td>2</td>\n",
       "      <td>1</td>\n",
       "      <td>1</td>\n",
       "      <td>Cumings, Mrs. John Bradley (Florence Briggs Th...</td>\n",
       "      <td>female</td>\n",
       "      <td>38.0</td>\n",
       "      <td>1</td>\n",
       "      <td>0</td>\n",
       "      <td>PC 17599</td>\n",
       "      <td>71.2833</td>\n",
       "      <td>C85</td>\n",
       "      <td>C</td>\n",
       "    </tr>\n",
       "    <tr>\n",
       "      <th>2</th>\n",
       "      <td>3</td>\n",
       "      <td>1</td>\n",
       "      <td>3</td>\n",
       "      <td>Heikkinen, Miss. Laina</td>\n",
       "      <td>female</td>\n",
       "      <td>26.0</td>\n",
       "      <td>0</td>\n",
       "      <td>0</td>\n",
       "      <td>STON/O2. 3101282</td>\n",
       "      <td>7.9250</td>\n",
       "      <td>NaN</td>\n",
       "      <td>S</td>\n",
       "    </tr>\n",
       "    <tr>\n",
       "      <th>3</th>\n",
       "      <td>4</td>\n",
       "      <td>1</td>\n",
       "      <td>1</td>\n",
       "      <td>Futrelle, Mrs. Jacques Heath (Lily May Peel)</td>\n",
       "      <td>female</td>\n",
       "      <td>35.0</td>\n",
       "      <td>1</td>\n",
       "      <td>0</td>\n",
       "      <td>113803</td>\n",
       "      <td>53.1000</td>\n",
       "      <td>C123</td>\n",
       "      <td>S</td>\n",
       "    </tr>\n",
       "    <tr>\n",
       "      <th>4</th>\n",
       "      <td>5</td>\n",
       "      <td>0</td>\n",
       "      <td>3</td>\n",
       "      <td>Allen, Mr. William Henry</td>\n",
       "      <td>male</td>\n",
       "      <td>35.0</td>\n",
       "      <td>0</td>\n",
       "      <td>0</td>\n",
       "      <td>373450</td>\n",
       "      <td>8.0500</td>\n",
       "      <td>NaN</td>\n",
       "      <td>S</td>\n",
       "    </tr>\n",
       "  </tbody>\n",
       "</table>\n",
       "</div>"
      ],
      "text/plain": [
       "   PassengerId  Survived  Pclass  \\\n",
       "0            1         0       3   \n",
       "1            2         1       1   \n",
       "2            3         1       3   \n",
       "3            4         1       1   \n",
       "4            5         0       3   \n",
       "\n",
       "                                                Name     Sex   Age  SibSp  \\\n",
       "0                            Braund, Mr. Owen Harris    male  22.0      1   \n",
       "1  Cumings, Mrs. John Bradley (Florence Briggs Th...  female  38.0      1   \n",
       "2                             Heikkinen, Miss. Laina  female  26.0      0   \n",
       "3       Futrelle, Mrs. Jacques Heath (Lily May Peel)  female  35.0      1   \n",
       "4                           Allen, Mr. William Henry    male  35.0      0   \n",
       "\n",
       "   Parch            Ticket     Fare Cabin Embarked  \n",
       "0      0         A/5 21171   7.2500   NaN        S  \n",
       "1      0          PC 17599  71.2833   C85        C  \n",
       "2      0  STON/O2. 3101282   7.9250   NaN        S  \n",
       "3      0            113803  53.1000  C123        S  \n",
       "4      0            373450   8.0500   NaN        S  "
      ]
     },
     "execution_count": 2,
     "metadata": {},
     "output_type": "execute_result"
    }
   ],
   "source": [
    "titanic_data.head()\n"
   ]
  },
  {
   "cell_type": "markdown",
   "metadata": {},
   "source": [
    "<img src=\"datanotes.png\" alt=\"Drawing\" style=\"width: 700px;\"/>"
   ]
  },
  {
   "cell_type": "markdown",
   "metadata": {},
   "source": [
    "I pasted the a note here to remind me the meaning of the datas. The *Ages* column and the *Cabin* column contain lot of *NAN*, so I check them. The note says age could be franctional, which i did not see. I check them in csv file and find that these datas were missing when I first got the datas.\n",
    "\n",
    "Therefore I replace *NAN* in *Cabin* column with '' in str form, and replace *NAN* in *Age* column with average age."
   ]
  },
  {
   "cell_type": "code",
   "execution_count": 3,
   "metadata": {},
   "outputs": [
    {
     "name": "stdout",
     "output_type": "stream",
     "text": [
      "<class 'numpy.float64'> <class 'numpy.float64'>\n",
      "<class 'float'> <class 'str'>\n",
      "<class 'str'> <class 'str'>\n"
     ]
    }
   ],
   "source": [
    "print(type(titanic_data['Age'][0]),type(titanic_data['Age'][5]))\n",
    "print(type(titanic_data['Cabin'][0]),type(titanic_data['Cabin'][1]))\n",
    "\n",
    "\n",
    "titanic_data['Cabin'] = titanic_data['Cabin'].fillna('')\n",
    "\n",
    "temporate_memory = titanic_data['Age']\n",
    "temporate_memory.fillna(0)\n",
    "mean_age = temporate_memory.mean(axis='index')\n",
    "titanic_data['Age'] = titanic_data['Age'].fillna(mean_age)\n",
    "\n",
    "print(type(titanic_data['Cabin'][0]),type(titanic_data['Cabin'][1]))"
   ]
  },
  {
   "cell_type": "code",
   "execution_count": 4,
   "metadata": {},
   "outputs": [
    {
     "data": {
      "text/html": [
       "<div>\n",
       "<style scoped>\n",
       "    .dataframe tbody tr th:only-of-type {\n",
       "        vertical-align: middle;\n",
       "    }\n",
       "\n",
       "    .dataframe tbody tr th {\n",
       "        vertical-align: top;\n",
       "    }\n",
       "\n",
       "    .dataframe thead th {\n",
       "        text-align: right;\n",
       "    }\n",
       "</style>\n",
       "<table border=\"1\" class=\"dataframe\">\n",
       "  <thead>\n",
       "    <tr style=\"text-align: right;\">\n",
       "      <th></th>\n",
       "      <th>PassengerId</th>\n",
       "      <th>Survived</th>\n",
       "      <th>Pclass</th>\n",
       "      <th>Name</th>\n",
       "      <th>Sex</th>\n",
       "      <th>Age</th>\n",
       "      <th>SibSp</th>\n",
       "      <th>Parch</th>\n",
       "      <th>Ticket</th>\n",
       "      <th>Fare</th>\n",
       "      <th>Cabin</th>\n",
       "      <th>Embarked</th>\n",
       "    </tr>\n",
       "  </thead>\n",
       "  <tbody>\n",
       "    <tr>\n",
       "      <th>0</th>\n",
       "      <td>1</td>\n",
       "      <td>0</td>\n",
       "      <td>3</td>\n",
       "      <td>Braund, Mr. Owen Harris</td>\n",
       "      <td>male</td>\n",
       "      <td>22.0</td>\n",
       "      <td>1</td>\n",
       "      <td>0</td>\n",
       "      <td>A/5 21171</td>\n",
       "      <td>7.2500</td>\n",
       "      <td></td>\n",
       "      <td>S</td>\n",
       "    </tr>\n",
       "    <tr>\n",
       "      <th>1</th>\n",
       "      <td>2</td>\n",
       "      <td>1</td>\n",
       "      <td>1</td>\n",
       "      <td>Cumings, Mrs. John Bradley (Florence Briggs Th...</td>\n",
       "      <td>female</td>\n",
       "      <td>38.0</td>\n",
       "      <td>1</td>\n",
       "      <td>0</td>\n",
       "      <td>PC 17599</td>\n",
       "      <td>71.2833</td>\n",
       "      <td>C85</td>\n",
       "      <td>C</td>\n",
       "    </tr>\n",
       "    <tr>\n",
       "      <th>2</th>\n",
       "      <td>3</td>\n",
       "      <td>1</td>\n",
       "      <td>3</td>\n",
       "      <td>Heikkinen, Miss. Laina</td>\n",
       "      <td>female</td>\n",
       "      <td>26.0</td>\n",
       "      <td>0</td>\n",
       "      <td>0</td>\n",
       "      <td>STON/O2. 3101282</td>\n",
       "      <td>7.9250</td>\n",
       "      <td></td>\n",
       "      <td>S</td>\n",
       "    </tr>\n",
       "    <tr>\n",
       "      <th>3</th>\n",
       "      <td>4</td>\n",
       "      <td>1</td>\n",
       "      <td>1</td>\n",
       "      <td>Futrelle, Mrs. Jacques Heath (Lily May Peel)</td>\n",
       "      <td>female</td>\n",
       "      <td>35.0</td>\n",
       "      <td>1</td>\n",
       "      <td>0</td>\n",
       "      <td>113803</td>\n",
       "      <td>53.1000</td>\n",
       "      <td>C123</td>\n",
       "      <td>S</td>\n",
       "    </tr>\n",
       "    <tr>\n",
       "      <th>4</th>\n",
       "      <td>5</td>\n",
       "      <td>0</td>\n",
       "      <td>3</td>\n",
       "      <td>Allen, Mr. William Henry</td>\n",
       "      <td>male</td>\n",
       "      <td>35.0</td>\n",
       "      <td>0</td>\n",
       "      <td>0</td>\n",
       "      <td>373450</td>\n",
       "      <td>8.0500</td>\n",
       "      <td></td>\n",
       "      <td>S</td>\n",
       "    </tr>\n",
       "  </tbody>\n",
       "</table>\n",
       "</div>"
      ],
      "text/plain": [
       "   PassengerId  Survived  Pclass  \\\n",
       "0            1         0       3   \n",
       "1            2         1       1   \n",
       "2            3         1       3   \n",
       "3            4         1       1   \n",
       "4            5         0       3   \n",
       "\n",
       "                                                Name     Sex   Age  SibSp  \\\n",
       "0                            Braund, Mr. Owen Harris    male  22.0      1   \n",
       "1  Cumings, Mrs. John Bradley (Florence Briggs Th...  female  38.0      1   \n",
       "2                             Heikkinen, Miss. Laina  female  26.0      0   \n",
       "3       Futrelle, Mrs. Jacques Heath (Lily May Peel)  female  35.0      1   \n",
       "4                           Allen, Mr. William Henry    male  35.0      0   \n",
       "\n",
       "   Parch            Ticket     Fare Cabin Embarked  \n",
       "0      0         A/5 21171   7.2500              S  \n",
       "1      0          PC 17599  71.2833   C85        C  \n",
       "2      0  STON/O2. 3101282   7.9250              S  \n",
       "3      0            113803  53.1000  C123        S  \n",
       "4      0            373450   8.0500              S  "
      ]
     },
     "execution_count": 4,
     "metadata": {},
     "output_type": "execute_result"
    }
   ],
   "source": [
    "titanic_data.head()"
   ]
  },
  {
   "cell_type": "markdown",
   "metadata": {},
   "source": [
    "## Question\n",
    "\n",
    "As many things interest me, I write some question down :\n",
    "    \n",
    "+ Which factors influence the survival?\n",
    "\n",
    "   age: The under-aged and old passenger is more helpless. if they did not gain help from others, their death-rate must be high. \n",
    "\n",
    "   gender: It is said that when disaster occured, the gentle men on board gave up the seat in lifeboat to ladies and children. If it is true, the survival-rate is lower than women. \n",
    "\n",
    "   companions : Are passengers with children/parents tend to survive? Are passengers with sibling/spouse tend to survive?\n",
    "\n",
    "   ticket-class: Are passengers in higher class tend to survive? \n",
    "   \n",
    "   embarked station: I assume that embarked place do not influence the survival_rate, if it do, that is a weird thing which should be take a look.\n",
    "   \n",
    "\n",
    "+ About the consists of passengers.\n",
    "\n",
    "   the proporation of population in each class\n",
    "   \n",
    "   the situation of the children with/without parents \n",
    "   \n",
    "   the distribultion of passenger age/gender\n",
    "   \n",
    "   if the upper class have more families traval with them\n",
    "   \n",
    "   \n",
    "+ About the ship\n",
    "   \n",
    "   the fare for each class \n",
    "   \n",
    "   the passengers survive rate\n",
    "   \n",
    "   \n",
    "I think I will explore them in reverse order, because the last one is the simplest and the first one is most complicated.\n",
    "\n",
    "\n",
    "## Analysis Processing\n",
    "\n",
    "### About the fare\n",
    "\n",
    "First thing I am interested in is the fare for each class. I caculate the mean fare of each class, and maxmum fare of each class."
   ]
  },
  {
   "cell_type": "code",
   "execution_count": 5,
   "metadata": {},
   "outputs": [
    {
     "name": "stdout",
     "output_type": "stream",
     "text": [
      "The mean fare of each class\n",
      "Pclass\n",
      "1    84.154687\n",
      "2    20.662183\n",
      "3    13.675550\n",
      "Name: Fare, dtype: float64\n"
     ]
    }
   ],
   "source": [
    "print(\"The mean fare of each class\")\n",
    "print(titanic_data.groupby(['Pclass'])['Fare'].mean())"
   ]
  },
  {
   "cell_type": "code",
   "execution_count": 6,
   "metadata": {},
   "outputs": [
    {
     "name": "stdout",
     "output_type": "stream",
     "text": [
      "The most expensive ticket of each class\n",
      "Pclass\n",
      "1    512.3292\n",
      "2     73.5000\n",
      "3     69.5500\n",
      "Name: Fare, dtype: float64 Pclass\n",
      "1    258\n",
      "2     72\n",
      "3    159\n",
      "Name: Fare, dtype: int64\n",
      "PassengerId                 259\n",
      "Survived                      1\n",
      "Pclass                        1\n",
      "Name           Ward, Miss. Anna\n",
      "Sex                      female\n",
      "Age                          35\n",
      "SibSp                         0\n",
      "Parch                         0\n",
      "Ticket                 PC 17755\n",
      "Fare                    512.329\n",
      "Cabin                          \n",
      "Embarked                      C\n",
      "Name: 258, dtype: object PassengerId                      73\n",
      "Survived                          0\n",
      "Pclass                            2\n",
      "Name           Hood, Mr. Ambrose Jr\n",
      "Sex                            male\n",
      "Age                              21\n",
      "SibSp                             0\n",
      "Parch                             0\n",
      "Ticket                 S.O.C. 14879\n",
      "Fare                           73.5\n",
      "Cabin                              \n",
      "Embarked                          S\n",
      "Name: 72, dtype: object PassengerId                           160\n",
      "Survived                                0\n",
      "Pclass                                  3\n",
      "Name           Sage, Master. Thomas Henry\n",
      "Sex                                  male\n",
      "Age                               29.6991\n",
      "SibSp                                   8\n",
      "Parch                                   2\n",
      "Ticket                           CA. 2343\n",
      "Fare                                69.55\n",
      "Cabin                                    \n",
      "Embarked                                S\n",
      "Name: 159, dtype: object\n"
     ]
    }
   ],
   "source": [
    "print(\"The most expensive ticket of each class\")\n",
    "print(titanic_data.groupby(['Pclass'])['Fare'].max(), titanic_data.groupby(['Pclass'])['Fare'].idxmax())\n",
    "print(titanic_data.iloc[258], titanic_data.iloc[72], titanic_data.iloc[159])"
   ]
  },
  {
   "cell_type": "markdown",
   "metadata": {},
   "source": [
    "The mean fare of Upper class cabin is 84.154687,  and 20.662183 for Middle class cabin, 13.675550 for Lower class cabin.  \n",
    "\n",
    "The fare for Upper class is 3.07 times more expensive than the Middle class, and 15.15 times more expensive than the Lower class. Nowadays, a plane from NewYork to London fare for first class is 5.4 times more expensive than tourist class.(take a sample in 2017.12.20 AmaricanAirLine AA6147)\n",
    "\n",
    "The most expensive fare for Upper class cabin is 512.3292 , and 73.5000 for Middle class cabin, 69.5500 for Lower class. \n",
    "\n",
    "The most expensive ticket for Middle class cabin is even more expensive than mean fare of Upper class cabin. The passenger with the most expensive ticket is a lady named Ward, Miss. Anna. Looks like she was 35 and was not married, and did not traval with families. \n",
    "\n",
    "---\n",
    "<font color=gray>**Actually I do not know indeed if the unit of fare is dollar. And another meaningless thing is that the fare there should  not be four  decimal. I guess the unit might be hundred dollars. And later I know the unit accroding to the webside (£512, 6s, 7d), but still can not recongnize it. </font> \n",
    "\n",
    "---\n",
    "\n"
   ]
  },
  {
   "cell_type": "code",
   "execution_count": 7,
   "metadata": {},
   "outputs": [
    {
     "name": "stdout",
     "output_type": "stream",
     "text": [
      "The cheapest ticket of each class\n",
      "Pclass\n",
      "1    0.0\n",
      "2    0.0\n",
      "3    0.0\n",
      "Name: Fare, dtype: float64 Pclass\n",
      "1    263\n",
      "2    277\n",
      "3    179\n",
      "Name: Fare, dtype: int64\n",
      "PassengerId                      264\n",
      "Survived                           0\n",
      "Pclass                             1\n",
      "Name           Harrison, Mr. William\n",
      "Sex                             male\n",
      "Age                               40\n",
      "SibSp                              0\n",
      "Parch                              0\n",
      "Ticket                        112059\n",
      "Fare                               0\n",
      "Cabin                            B94\n",
      "Embarked                           S\n",
      "Name: 263, dtype: object PassengerId                            278\n",
      "Survived                                 0\n",
      "Pclass                                   2\n",
      "Name           Parkes, Mr. Francis \"Frank\"\n",
      "Sex                                   male\n",
      "Age                                29.6991\n",
      "SibSp                                    0\n",
      "Parch                                    0\n",
      "Ticket                              239853\n",
      "Fare                                     0\n",
      "Cabin                                     \n",
      "Embarked                                 S\n",
      "Name: 277, dtype: object PassengerId                    180\n",
      "Survived                         0\n",
      "Pclass                           3\n",
      "Name           Leonard, Mr. Lionel\n",
      "Sex                           male\n",
      "Age                             36\n",
      "SibSp                            0\n",
      "Parch                            0\n",
      "Ticket                        LINE\n",
      "Fare                             0\n",
      "Cabin                             \n",
      "Embarked                         S\n",
      "Name: 179, dtype: object\n"
     ]
    }
   ],
   "source": [
    "print(\"The cheapest ticket of each class\")\n",
    "print(titanic_data.groupby(['Pclass'])['Fare'].min(), titanic_data.groupby(['Pclass'])['Fare'].idxmin())\n",
    "print(titanic_data.iloc[263], titanic_data.iloc[277], titanic_data.iloc[179])"
   ]
  },
  {
   "cell_type": "markdown",
   "metadata": {},
   "source": [
    "As for the cheapest ticket in each class, there is a strange thing. For all classes the cheapest ticket are all free (fare shows 0).\n",
    "\n",
    "Is this situation a mistake? Or was there any passengers traval for free? \n",
    "\n",
    "I print passengers with 0 fare out, and find they all got on board on a embarkation pot named Southampton. I print the cheapest ticket of each embarkation pot as follow.\n",
    "\n",
    "There was not passenger with 0 fare embarked on other two embarkation pots. Maybe there are some passengers from Southampton travelled for free. I am going to find them all out"
   ]
  },
  {
   "cell_type": "code",
   "execution_count": 8,
   "metadata": {},
   "outputs": [
    {
     "name": "stdout",
     "output_type": "stream",
     "text": [
      "Embarked\n",
      "C    4.0125\n",
      "Q    6.7500\n",
      "S    0.0000\n",
      "Name: Fare, dtype: float64\n"
     ]
    }
   ],
   "source": [
    "print(titanic_data.groupby(['Embarked'])['Fare'].min())\n"
   ]
  },
  {
   "cell_type": "code",
   "execution_count": 9,
   "metadata": {
    "scrolled": false
   },
   "outputs": [
    {
     "data": {
      "text/html": [
       "<div>\n",
       "<style scoped>\n",
       "    .dataframe tbody tr th:only-of-type {\n",
       "        vertical-align: middle;\n",
       "    }\n",
       "\n",
       "    .dataframe tbody tr th {\n",
       "        vertical-align: top;\n",
       "    }\n",
       "\n",
       "    .dataframe thead th {\n",
       "        text-align: right;\n",
       "    }\n",
       "</style>\n",
       "<table border=\"1\" class=\"dataframe\">\n",
       "  <thead>\n",
       "    <tr style=\"text-align: right;\">\n",
       "      <th></th>\n",
       "      <th>PassengerId</th>\n",
       "      <th>Survived</th>\n",
       "      <th>Pclass</th>\n",
       "      <th>Name</th>\n",
       "      <th>Sex</th>\n",
       "      <th>Age</th>\n",
       "      <th>SibSp</th>\n",
       "      <th>Parch</th>\n",
       "      <th>Ticket</th>\n",
       "      <th>Fare</th>\n",
       "      <th>Cabin</th>\n",
       "      <th>Embarked</th>\n",
       "    </tr>\n",
       "  </thead>\n",
       "  <tbody>\n",
       "    <tr>\n",
       "      <th>179</th>\n",
       "      <td>180</td>\n",
       "      <td>0</td>\n",
       "      <td>3</td>\n",
       "      <td>Leonard, Mr. Lionel</td>\n",
       "      <td>male</td>\n",
       "      <td>36.000000</td>\n",
       "      <td>0</td>\n",
       "      <td>0</td>\n",
       "      <td>LINE</td>\n",
       "      <td>0.0</td>\n",
       "      <td></td>\n",
       "      <td>S</td>\n",
       "    </tr>\n",
       "    <tr>\n",
       "      <th>263</th>\n",
       "      <td>264</td>\n",
       "      <td>0</td>\n",
       "      <td>1</td>\n",
       "      <td>Harrison, Mr. William</td>\n",
       "      <td>male</td>\n",
       "      <td>40.000000</td>\n",
       "      <td>0</td>\n",
       "      <td>0</td>\n",
       "      <td>112059</td>\n",
       "      <td>0.0</td>\n",
       "      <td>B94</td>\n",
       "      <td>S</td>\n",
       "    </tr>\n",
       "    <tr>\n",
       "      <th>271</th>\n",
       "      <td>272</td>\n",
       "      <td>1</td>\n",
       "      <td>3</td>\n",
       "      <td>Tornquist, Mr. William Henry</td>\n",
       "      <td>male</td>\n",
       "      <td>25.000000</td>\n",
       "      <td>0</td>\n",
       "      <td>0</td>\n",
       "      <td>LINE</td>\n",
       "      <td>0.0</td>\n",
       "      <td></td>\n",
       "      <td>S</td>\n",
       "    </tr>\n",
       "    <tr>\n",
       "      <th>277</th>\n",
       "      <td>278</td>\n",
       "      <td>0</td>\n",
       "      <td>2</td>\n",
       "      <td>Parkes, Mr. Francis \"Frank\"</td>\n",
       "      <td>male</td>\n",
       "      <td>29.699118</td>\n",
       "      <td>0</td>\n",
       "      <td>0</td>\n",
       "      <td>239853</td>\n",
       "      <td>0.0</td>\n",
       "      <td></td>\n",
       "      <td>S</td>\n",
       "    </tr>\n",
       "    <tr>\n",
       "      <th>302</th>\n",
       "      <td>303</td>\n",
       "      <td>0</td>\n",
       "      <td>3</td>\n",
       "      <td>Johnson, Mr. William Cahoone Jr</td>\n",
       "      <td>male</td>\n",
       "      <td>19.000000</td>\n",
       "      <td>0</td>\n",
       "      <td>0</td>\n",
       "      <td>LINE</td>\n",
       "      <td>0.0</td>\n",
       "      <td></td>\n",
       "      <td>S</td>\n",
       "    </tr>\n",
       "    <tr>\n",
       "      <th>413</th>\n",
       "      <td>414</td>\n",
       "      <td>0</td>\n",
       "      <td>2</td>\n",
       "      <td>Cunningham, Mr. Alfred Fleming</td>\n",
       "      <td>male</td>\n",
       "      <td>29.699118</td>\n",
       "      <td>0</td>\n",
       "      <td>0</td>\n",
       "      <td>239853</td>\n",
       "      <td>0.0</td>\n",
       "      <td></td>\n",
       "      <td>S</td>\n",
       "    </tr>\n",
       "    <tr>\n",
       "      <th>466</th>\n",
       "      <td>467</td>\n",
       "      <td>0</td>\n",
       "      <td>2</td>\n",
       "      <td>Campbell, Mr. William</td>\n",
       "      <td>male</td>\n",
       "      <td>29.699118</td>\n",
       "      <td>0</td>\n",
       "      <td>0</td>\n",
       "      <td>239853</td>\n",
       "      <td>0.0</td>\n",
       "      <td></td>\n",
       "      <td>S</td>\n",
       "    </tr>\n",
       "    <tr>\n",
       "      <th>481</th>\n",
       "      <td>482</td>\n",
       "      <td>0</td>\n",
       "      <td>2</td>\n",
       "      <td>Frost, Mr. Anthony Wood \"Archie\"</td>\n",
       "      <td>male</td>\n",
       "      <td>29.699118</td>\n",
       "      <td>0</td>\n",
       "      <td>0</td>\n",
       "      <td>239854</td>\n",
       "      <td>0.0</td>\n",
       "      <td></td>\n",
       "      <td>S</td>\n",
       "    </tr>\n",
       "    <tr>\n",
       "      <th>597</th>\n",
       "      <td>598</td>\n",
       "      <td>0</td>\n",
       "      <td>3</td>\n",
       "      <td>Johnson, Mr. Alfred</td>\n",
       "      <td>male</td>\n",
       "      <td>49.000000</td>\n",
       "      <td>0</td>\n",
       "      <td>0</td>\n",
       "      <td>LINE</td>\n",
       "      <td>0.0</td>\n",
       "      <td></td>\n",
       "      <td>S</td>\n",
       "    </tr>\n",
       "    <tr>\n",
       "      <th>633</th>\n",
       "      <td>634</td>\n",
       "      <td>0</td>\n",
       "      <td>1</td>\n",
       "      <td>Parr, Mr. William Henry Marsh</td>\n",
       "      <td>male</td>\n",
       "      <td>29.699118</td>\n",
       "      <td>0</td>\n",
       "      <td>0</td>\n",
       "      <td>112052</td>\n",
       "      <td>0.0</td>\n",
       "      <td></td>\n",
       "      <td>S</td>\n",
       "    </tr>\n",
       "    <tr>\n",
       "      <th>674</th>\n",
       "      <td>675</td>\n",
       "      <td>0</td>\n",
       "      <td>2</td>\n",
       "      <td>Watson, Mr. Ennis Hastings</td>\n",
       "      <td>male</td>\n",
       "      <td>29.699118</td>\n",
       "      <td>0</td>\n",
       "      <td>0</td>\n",
       "      <td>239856</td>\n",
       "      <td>0.0</td>\n",
       "      <td></td>\n",
       "      <td>S</td>\n",
       "    </tr>\n",
       "    <tr>\n",
       "      <th>732</th>\n",
       "      <td>733</td>\n",
       "      <td>0</td>\n",
       "      <td>2</td>\n",
       "      <td>Knight, Mr. Robert J</td>\n",
       "      <td>male</td>\n",
       "      <td>29.699118</td>\n",
       "      <td>0</td>\n",
       "      <td>0</td>\n",
       "      <td>239855</td>\n",
       "      <td>0.0</td>\n",
       "      <td></td>\n",
       "      <td>S</td>\n",
       "    </tr>\n",
       "    <tr>\n",
       "      <th>806</th>\n",
       "      <td>807</td>\n",
       "      <td>0</td>\n",
       "      <td>1</td>\n",
       "      <td>Andrews, Mr. Thomas Jr</td>\n",
       "      <td>male</td>\n",
       "      <td>39.000000</td>\n",
       "      <td>0</td>\n",
       "      <td>0</td>\n",
       "      <td>112050</td>\n",
       "      <td>0.0</td>\n",
       "      <td>A36</td>\n",
       "      <td>S</td>\n",
       "    </tr>\n",
       "    <tr>\n",
       "      <th>815</th>\n",
       "      <td>816</td>\n",
       "      <td>0</td>\n",
       "      <td>1</td>\n",
       "      <td>Fry, Mr. Richard</td>\n",
       "      <td>male</td>\n",
       "      <td>29.699118</td>\n",
       "      <td>0</td>\n",
       "      <td>0</td>\n",
       "      <td>112058</td>\n",
       "      <td>0.0</td>\n",
       "      <td>B102</td>\n",
       "      <td>S</td>\n",
       "    </tr>\n",
       "    <tr>\n",
       "      <th>822</th>\n",
       "      <td>823</td>\n",
       "      <td>0</td>\n",
       "      <td>1</td>\n",
       "      <td>Reuchlin, Jonkheer. John George</td>\n",
       "      <td>male</td>\n",
       "      <td>38.000000</td>\n",
       "      <td>0</td>\n",
       "      <td>0</td>\n",
       "      <td>19972</td>\n",
       "      <td>0.0</td>\n",
       "      <td></td>\n",
       "      <td>S</td>\n",
       "    </tr>\n",
       "  </tbody>\n",
       "</table>\n",
       "</div>"
      ],
      "text/plain": [
       "     PassengerId  Survived  Pclass                              Name   Sex  \\\n",
       "179          180         0       3               Leonard, Mr. Lionel  male   \n",
       "263          264         0       1             Harrison, Mr. William  male   \n",
       "271          272         1       3      Tornquist, Mr. William Henry  male   \n",
       "277          278         0       2       Parkes, Mr. Francis \"Frank\"  male   \n",
       "302          303         0       3   Johnson, Mr. William Cahoone Jr  male   \n",
       "413          414         0       2    Cunningham, Mr. Alfred Fleming  male   \n",
       "466          467         0       2             Campbell, Mr. William  male   \n",
       "481          482         0       2  Frost, Mr. Anthony Wood \"Archie\"  male   \n",
       "597          598         0       3               Johnson, Mr. Alfred  male   \n",
       "633          634         0       1     Parr, Mr. William Henry Marsh  male   \n",
       "674          675         0       2        Watson, Mr. Ennis Hastings  male   \n",
       "732          733         0       2              Knight, Mr. Robert J  male   \n",
       "806          807         0       1            Andrews, Mr. Thomas Jr  male   \n",
       "815          816         0       1                  Fry, Mr. Richard  male   \n",
       "822          823         0       1   Reuchlin, Jonkheer. John George  male   \n",
       "\n",
       "           Age  SibSp  Parch  Ticket  Fare Cabin Embarked  \n",
       "179  36.000000      0      0    LINE   0.0              S  \n",
       "263  40.000000      0      0  112059   0.0   B94        S  \n",
       "271  25.000000      0      0    LINE   0.0              S  \n",
       "277  29.699118      0      0  239853   0.0              S  \n",
       "302  19.000000      0      0    LINE   0.0              S  \n",
       "413  29.699118      0      0  239853   0.0              S  \n",
       "466  29.699118      0      0  239853   0.0              S  \n",
       "481  29.699118      0      0  239854   0.0              S  \n",
       "597  49.000000      0      0    LINE   0.0              S  \n",
       "633  29.699118      0      0  112052   0.0              S  \n",
       "674  29.699118      0      0  239856   0.0              S  \n",
       "732  29.699118      0      0  239855   0.0              S  \n",
       "806  39.000000      0      0  112050   0.0   A36        S  \n",
       "815  29.699118      0      0  112058   0.0  B102        S  \n",
       "822  38.000000      0      0   19972   0.0              S  "
      ]
     },
     "execution_count": 9,
     "metadata": {},
     "output_type": "execute_result"
    }
   ],
   "source": [
    "titanic_data[titanic_data.Fare == 0]    "
   ]
  },
  {
   "cell_type": "markdown",
   "metadata": {},
   "source": [
    "As can be seen, all of them are male, younger than 50 and older than 19. They were all died in the disaster except one. The only survival is Mr. William Henry, 25 years old.\n",
    " \n",
    "Some of they have tiket number. I don't why they did not pay for the ticket. Some of them have ticket number as *LINE*. and I print all passenger with  ticket number as *LINE*, these four passengers appear to be only ones. \n",
    "\n",
    "I do not know who they are, they may be stuffs on the boat, or may tried steal a ride. I search *Tornquist, Mr. William Henry* on google and find him in a webside [encyclopedia-titanica](www.encyclopedia-titanica.org). The document in the webside shows they are employees on another ship.\n",
    "\n",
    ">He travelled as a third class passenger (ticket number 370160) together with fellow American Line employees: William Cahoone Johnson Jr., Alfred Johnson, Lionel Leonard, Alfred Carver and Thomas Storey.\n",
    "When the Titanic he claimed there was no room for him in any lifeboat and that he had to be rescued on Collapsible A however, he was probably rescued in Lifeboat 15.\n",
    "\n",
    "These names mentioned in the document are just the passengers with  ticket number as *LINE*.\n",
    "\n",
    "What about other passengers with 0 fare? Search the oldest passenger's name *Johnson, Mr. Alfred* :\n",
    "\n",
    ">Alfred was one of the nine-strong \"guarantee group\" of Harland and Wolff employees chosen to oversee the smooth running of the Titanic's maiden voyage. He, like the rest of his counterparts, died in the sinking. His body, if recovered, was never identified.\n",
    "\n",
    "He was also an employee.  The others were more or less in same situation. There is a special one, Jonkheer John George, who is the designer of the ship.\n",
    "\n",
    "They were men of great age, as stuff on Titanic, they stick to their duty and save as many as passengers. I am very impressed to find this.\n"
   ]
  },
  {
   "cell_type": "code",
   "execution_count": 10,
   "metadata": {},
   "outputs": [
    {
     "data": {
      "text/html": [
       "<div>\n",
       "<style scoped>\n",
       "    .dataframe tbody tr th:only-of-type {\n",
       "        vertical-align: middle;\n",
       "    }\n",
       "\n",
       "    .dataframe tbody tr th {\n",
       "        vertical-align: top;\n",
       "    }\n",
       "\n",
       "    .dataframe thead th {\n",
       "        text-align: right;\n",
       "    }\n",
       "</style>\n",
       "<table border=\"1\" class=\"dataframe\">\n",
       "  <thead>\n",
       "    <tr style=\"text-align: right;\">\n",
       "      <th></th>\n",
       "      <th>PassengerId</th>\n",
       "      <th>Survived</th>\n",
       "      <th>Pclass</th>\n",
       "      <th>Name</th>\n",
       "      <th>Sex</th>\n",
       "      <th>Age</th>\n",
       "      <th>SibSp</th>\n",
       "      <th>Parch</th>\n",
       "      <th>Ticket</th>\n",
       "      <th>Fare</th>\n",
       "      <th>Cabin</th>\n",
       "      <th>Embarked</th>\n",
       "    </tr>\n",
       "  </thead>\n",
       "  <tbody>\n",
       "    <tr>\n",
       "      <th>179</th>\n",
       "      <td>180</td>\n",
       "      <td>0</td>\n",
       "      <td>3</td>\n",
       "      <td>Leonard, Mr. Lionel</td>\n",
       "      <td>male</td>\n",
       "      <td>36.0</td>\n",
       "      <td>0</td>\n",
       "      <td>0</td>\n",
       "      <td>LINE</td>\n",
       "      <td>0.0</td>\n",
       "      <td></td>\n",
       "      <td>S</td>\n",
       "    </tr>\n",
       "    <tr>\n",
       "      <th>271</th>\n",
       "      <td>272</td>\n",
       "      <td>1</td>\n",
       "      <td>3</td>\n",
       "      <td>Tornquist, Mr. William Henry</td>\n",
       "      <td>male</td>\n",
       "      <td>25.0</td>\n",
       "      <td>0</td>\n",
       "      <td>0</td>\n",
       "      <td>LINE</td>\n",
       "      <td>0.0</td>\n",
       "      <td></td>\n",
       "      <td>S</td>\n",
       "    </tr>\n",
       "    <tr>\n",
       "      <th>302</th>\n",
       "      <td>303</td>\n",
       "      <td>0</td>\n",
       "      <td>3</td>\n",
       "      <td>Johnson, Mr. William Cahoone Jr</td>\n",
       "      <td>male</td>\n",
       "      <td>19.0</td>\n",
       "      <td>0</td>\n",
       "      <td>0</td>\n",
       "      <td>LINE</td>\n",
       "      <td>0.0</td>\n",
       "      <td></td>\n",
       "      <td>S</td>\n",
       "    </tr>\n",
       "    <tr>\n",
       "      <th>597</th>\n",
       "      <td>598</td>\n",
       "      <td>0</td>\n",
       "      <td>3</td>\n",
       "      <td>Johnson, Mr. Alfred</td>\n",
       "      <td>male</td>\n",
       "      <td>49.0</td>\n",
       "      <td>0</td>\n",
       "      <td>0</td>\n",
       "      <td>LINE</td>\n",
       "      <td>0.0</td>\n",
       "      <td></td>\n",
       "      <td>S</td>\n",
       "    </tr>\n",
       "  </tbody>\n",
       "</table>\n",
       "</div>"
      ],
      "text/plain": [
       "     PassengerId  Survived  Pclass                             Name   Sex  \\\n",
       "179          180         0       3              Leonard, Mr. Lionel  male   \n",
       "271          272         1       3     Tornquist, Mr. William Henry  male   \n",
       "302          303         0       3  Johnson, Mr. William Cahoone Jr  male   \n",
       "597          598         0       3              Johnson, Mr. Alfred  male   \n",
       "\n",
       "      Age  SibSp  Parch Ticket  Fare Cabin Embarked  \n",
       "179  36.0      0      0   LINE   0.0              S  \n",
       "271  25.0      0      0   LINE   0.0              S  \n",
       "302  19.0      0      0   LINE   0.0              S  \n",
       "597  49.0      0      0   LINE   0.0              S  "
      ]
     },
     "execution_count": 10,
     "metadata": {},
     "output_type": "execute_result"
    }
   ],
   "source": [
    "titanic_data[titanic_data.Ticket == 'LINE']"
   ]
  },
  {
   "cell_type": "markdown",
   "metadata": {},
   "source": [
    "I remenber there was a lady Miss. Anna who pay the most expensive ticket. I also find her profile in the webside, and find out she is a entourage of the wealthy Cardeza family.\n",
    "\n",
    ">Annie came into the employ of the wealthy Cardeza family as the personal maid to wealthy widow Charlotte Drake Cardeza. In late 1911/early 1912 she had accompanied her employer to Africa and Europe where they had joined Mrs Cardeza's son Thomas, the two of them being big-game hunters. For the return to the USA Annie boarded the Titanic at Cherbourg on 10 April 1912 with Mrs Cardeza, her son Thomas and his manservant Gustave Lesueur and the entourage travelled on ticket number 17755 which cost the princely sum of  £512, 6s, 7d.\n",
    "\n",
    "therefore a ticket number can have more than one passenger. As followed, this expensive ticket is for 3 person. They are Mr. Thomas and his two entourages."
   ]
  },
  {
   "cell_type": "code",
   "execution_count": 11,
   "metadata": {
    "scrolled": false
   },
   "outputs": [
    {
     "data": {
      "text/html": [
       "<div>\n",
       "<style scoped>\n",
       "    .dataframe tbody tr th:only-of-type {\n",
       "        vertical-align: middle;\n",
       "    }\n",
       "\n",
       "    .dataframe tbody tr th {\n",
       "        vertical-align: top;\n",
       "    }\n",
       "\n",
       "    .dataframe thead th {\n",
       "        text-align: right;\n",
       "    }\n",
       "</style>\n",
       "<table border=\"1\" class=\"dataframe\">\n",
       "  <thead>\n",
       "    <tr style=\"text-align: right;\">\n",
       "      <th></th>\n",
       "      <th>PassengerId</th>\n",
       "      <th>Survived</th>\n",
       "      <th>Pclass</th>\n",
       "      <th>Name</th>\n",
       "      <th>Sex</th>\n",
       "      <th>Age</th>\n",
       "      <th>SibSp</th>\n",
       "      <th>Parch</th>\n",
       "      <th>Ticket</th>\n",
       "      <th>Fare</th>\n",
       "      <th>Cabin</th>\n",
       "      <th>Embarked</th>\n",
       "    </tr>\n",
       "  </thead>\n",
       "  <tbody>\n",
       "    <tr>\n",
       "      <th>258</th>\n",
       "      <td>259</td>\n",
       "      <td>1</td>\n",
       "      <td>1</td>\n",
       "      <td>Ward, Miss. Anna</td>\n",
       "      <td>female</td>\n",
       "      <td>35.0</td>\n",
       "      <td>0</td>\n",
       "      <td>0</td>\n",
       "      <td>PC 17755</td>\n",
       "      <td>512.3292</td>\n",
       "      <td></td>\n",
       "      <td>C</td>\n",
       "    </tr>\n",
       "    <tr>\n",
       "      <th>679</th>\n",
       "      <td>680</td>\n",
       "      <td>1</td>\n",
       "      <td>1</td>\n",
       "      <td>Cardeza, Mr. Thomas Drake Martinez</td>\n",
       "      <td>male</td>\n",
       "      <td>36.0</td>\n",
       "      <td>0</td>\n",
       "      <td>1</td>\n",
       "      <td>PC 17755</td>\n",
       "      <td>512.3292</td>\n",
       "      <td>B51 B53 B55</td>\n",
       "      <td>C</td>\n",
       "    </tr>\n",
       "    <tr>\n",
       "      <th>737</th>\n",
       "      <td>738</td>\n",
       "      <td>1</td>\n",
       "      <td>1</td>\n",
       "      <td>Lesurer, Mr. Gustave J</td>\n",
       "      <td>male</td>\n",
       "      <td>35.0</td>\n",
       "      <td>0</td>\n",
       "      <td>0</td>\n",
       "      <td>PC 17755</td>\n",
       "      <td>512.3292</td>\n",
       "      <td>B101</td>\n",
       "      <td>C</td>\n",
       "    </tr>\n",
       "  </tbody>\n",
       "</table>\n",
       "</div>"
      ],
      "text/plain": [
       "     PassengerId  Survived  Pclass                                Name  \\\n",
       "258          259         1       1                    Ward, Miss. Anna   \n",
       "679          680         1       1  Cardeza, Mr. Thomas Drake Martinez   \n",
       "737          738         1       1              Lesurer, Mr. Gustave J   \n",
       "\n",
       "        Sex   Age  SibSp  Parch    Ticket      Fare        Cabin Embarked  \n",
       "258  female  35.0      0      0  PC 17755  512.3292                     C  \n",
       "679    male  36.0      0      1  PC 17755  512.3292  B51 B53 B55        C  \n",
       "737    male  35.0      0      0  PC 17755  512.3292         B101        C  "
      ]
     },
     "execution_count": 11,
     "metadata": {},
     "output_type": "execute_result"
    }
   ],
   "source": [
    "titanic_data[titanic_data.Ticket=='PC 17755']"
   ]
  },
  {
   "cell_type": "markdown",
   "metadata": {},
   "source": [
    "### survival rate\n",
    "\n",
    "Also the survival rate is important. Not only I caculate the survival rate of total population, I also caculate survival rate of each gender, each class, children, and old people.\n",
    "\n",
    "The survival rate of men is really low, lower than total survival rate. As it is expected, the female survival rate is higher than total survival rate. Compared with total population, children are more likely to survive while older people are not.\n",
    "\n",
    "I will take a deeper look later when I study factors influenceing the survival rate."
   ]
  },
  {
   "cell_type": "code",
   "execution_count": 12,
   "metadata": {},
   "outputs": [
    {
     "name": "stdout",
     "output_type": "stream",
     "text": [
      "total survival rate: 0.383838383838\n",
      "male survival rate: 0.188908145581\n",
      "female survival rate: 0.742038216561\n",
      "chidren survival rate: 0.503597122302\n",
      "older than 60 survival rate: 0.269230769231\n",
      "older than 70 survival rate: 0.142857142857\n",
      "lowerclass survival rate: 0.242362525458\n",
      "middleclass survival rate: 0.472826086957\n",
      "upperclass survival rate: 0.62962962963\n"
     ]
    }
   ],
   "source": [
    "def caculate_survival_rate(data):\n",
    "    population = data.count()['PassengerId']\n",
    "    survival_population = data['Survived'].sum()\n",
    "    victim_population = population - survival_population\n",
    "    survival_rate = survival_population / population\n",
    "    return survival_rate\n",
    "\n",
    "print('total survival rate:',caculate_survival_rate(titanic_data))\n",
    "print('male survival rate:',caculate_survival_rate(titanic_data[titanic_data.Sex=='male']))\n",
    "print('female survival rate:',caculate_survival_rate(titanic_data[titanic_data.Sex=='female']))\n",
    "print('chidren survival rate:',caculate_survival_rate(titanic_data[titanic_data.Age<=18]))\n",
    "print('older than 60 survival rate:',caculate_survival_rate(titanic_data[titanic_data.Age>=60]))\n",
    "print('older than 70 survival rate:',caculate_survival_rate(titanic_data[titanic_data.Age>=70]))\n",
    "print('lowerclass survival rate:',caculate_survival_rate(titanic_data[titanic_data.Pclass==3]))\n",
    "print('middleclass survival rate:',caculate_survival_rate(titanic_data[titanic_data.Pclass==2]))\n",
    "print('upperclass survival rate:',caculate_survival_rate(titanic_data[titanic_data.Pclass==1]))"
   ]
  },
  {
   "cell_type": "markdown",
   "metadata": {},
   "source": [
    "### Distribution of passengers\n",
    "\n",
    "The size of the data is 891, in which there are 314 females and 577 males. 216 passengers in upper class, 184 in middle class and 491 in lower class."
   ]
  },
  {
   "cell_type": "code",
   "execution_count": 13,
   "metadata": {},
   "outputs": [
    {
     "name": "stdout",
     "output_type": "stream",
     "text": [
      "891\n",
      "314\n",
      "577\n",
      "216\n",
      "184\n",
      "491\n"
     ]
    }
   ],
   "source": [
    "print(len(titanic_data))\n",
    "print(len(titanic_data[titanic_data.Sex=='female']))\n",
    "print(len(titanic_data[titanic_data.Sex=='male']))\n",
    "print(len(titanic_data[titanic_data.Pclass==1]))\n",
    "print(len(titanic_data[titanic_data.Pclass==2]))\n",
    "print(len(titanic_data[titanic_data.Pclass==3]))"
   ]
  },
  {
   "cell_type": "code",
   "execution_count": 14,
   "metadata": {},
   "outputs": [],
   "source": [
    "%matplotlib inline\n",
    "import matplotlib.pyplot as plt\n",
    "import seaborn as sns \n",
    "\n",
    "\n",
    "def consist(data, column_name):\n",
    "    count_by_group = titanic_data.groupby(column_name).count()['PassengerId']\n",
    "    proporation= count_by_group / count_by_group.sum()\n",
    "    proporation.name = ''\n",
    "    return proporation\n",
    "    "
   ]
  },
  {
   "cell_type": "code",
   "execution_count": 15,
   "metadata": {
    "scrolled": false
   },
   "outputs": [
    {
     "name": "stdout",
     "output_type": "stream",
     "text": [
      "Pclass\n",
      "1    0.242424\n",
      "2    0.206510\n",
      "3    0.551066\n",
      "Name: , dtype: float64\n"
     ]
    },
    {
     "data": {
      "text/plain": [
       "<matplotlib.axes._subplots.AxesSubplot at 0x10b686fd0>"
      ]
     },
     "execution_count": 15,
     "metadata": {},
     "output_type": "execute_result"
    },
    {
     "data": {
      "image/png": "[encoded data removed]",
      "text/plain": [
       "<matplotlib.figure.Figure at 0x10b4effd0>"
      ]
     },
     "metadata": {},
     "output_type": "display_data"
    }
   ],
   "source": [
    "print(consist(titanic_data, 'Pclass'))\n",
    "consist(titanic_data, 'Pclass').plot.pie(title='Pclass distribution', colors=[ '#1E90FF','#00BFFF',  '#87CEFA'])\n"
   ]
  },
  {
   "cell_type": "code",
   "execution_count": 16,
   "metadata": {},
   "outputs": [
    {
     "data": {
      "text/plain": [
       "<matplotlib.axes._subplots.AxesSubplot at 0x11023f2b0>"
      ]
     },
     "execution_count": 16,
     "metadata": {},
     "output_type": "execute_result"
    },
    {
     "data": {
      "image/png": "[encoded data removed]",
      "text/plain": [
       "<matplotlib.figure.Figure at 0x106d7d128>"
      ]
     },
     "metadata": {},
     "output_type": "display_data"
    }
   ],
   "source": [
    "consist(titanic_data, 'Sex').plot.pie( title='Sex distribution', colors=[ '#FF82AB','#00BFFF'])\n",
    "\n"
   ]
  },
  {
   "cell_type": "code",
   "execution_count": 17,
   "metadata": {},
   "outputs": [
    {
     "data": {
      "text/plain": [
       "<matplotlib.axes._subplots.AxesSubplot at 0x1096256a0>"
      ]
     },
     "execution_count": 17,
     "metadata": {},
     "output_type": "execute_result"
    },
    {
     "data": {
      "image/png": "[encoded data removed]",
      "text/plain": [
       "<matplotlib.figure.Figure at 0x1102ba860>"
      ]
     },
     "metadata": {},
     "output_type": "display_data"
    }
   ],
   "source": [
    "titanic_data['Age'].plot.hist(bins=12, title='Age distribution',color=['#00BFFF'])"
   ]
  },
  {
   "cell_type": "code",
   "execution_count": 18,
   "metadata": {},
   "outputs": [
    {
     "data": {
      "text/plain": [
       "<matplotlib.axes._subplots.AxesSubplot at 0x1103e6f28>"
      ]
     },
     "execution_count": 18,
     "metadata": {},
     "output_type": "execute_result"
    },
    {
     "data": {
      "image/png": "[encoded data removed]",
      "text/plain": [
       "<matplotlib.figure.Figure at 0x106d60b00>"
      ]
     },
     "metadata": {},
     "output_type": "display_data"
    }
   ],
   "source": [
    "titanic_data['Fare'].plot.hist(bins=12, title='Fare distribution',color=['#00BFFF'])"
   ]
  },
  {
   "cell_type": "markdown",
   "metadata": {},
   "source": [
    "I asked a question when i awared that one ticket is for more than one passenger. Did the upper class have more families traval with them? Now it seems not. On the contray, the lower class passenger are with more families."
   ]
  },
  {
   "cell_type": "code",
   "execution_count": 19,
   "metadata": {},
   "outputs": [
    {
     "name": "stdout",
     "output_type": "stream",
     "text": [
      "Pclass\n",
      "1    0.356481\n",
      "2    0.380435\n",
      "3    0.393075\n",
      "dtype: float64 Pclass\n",
      "1    0.416667\n",
      "2    0.402174\n",
      "3    0.615071\n",
      "dtype: float64\n"
     ]
    }
   ],
   "source": [
    "per_class_parch_num = titanic_data.groupby('Pclass')[\"Parch\"].sum()\n",
    "per_class_sibsp_num = titanic_data.groupby('Pclass')[\"SibSp\"].sum()\n",
    "per_class_num = titanic_data.groupby('Pclass').count()['PassengerId']\n",
    "\n",
    "parch_rate = per_class_parch_num/per_class_num\n",
    "sibsp_rate = per_class_sibsp_num/per_class_num\n",
    "\n",
    "print(per_class_parch_num/per_class_num, per_class_sibsp_num/per_class_num)\n",
    "\n",
    "\n",
    "#parch_rate.plot.barh()"
   ]
  },
  {
   "cell_type": "code",
   "execution_count": 20,
   "metadata": {},
   "outputs": [],
   "source": [
    "#sibsp_rate.plot.barh()"
   ]
  },
  {
   "cell_type": "markdown",
   "metadata": {},
   "source": [
    "### factors influencing the survival\n",
    "\n",
    "\n",
    "I have caculate the survival rate before, and in order to see it more clearly I plot it. \n",
    "\n",
    "+ The survival rate of men is really low, lower than total survival rate. As it is expected, the female survival rate is higher than total survival rate. \n",
    "\n",
    "+ Compared with total population, children are more likely to survive while older people are not.\n",
    "\n",
    "+ Passengers in upper class are more likely to survive, and survival rate of passengers in middle class is still higher than total survival rate, but in lower class over 3/4 passengers died.\n",
    "\n",
    "I am going to show these in seperate graphs. These graghs only show the survival rate of different groups, and we can only guess but not deduce the reason. \n"
   ]
  },
  {
   "cell_type": "code",
   "execution_count": 21,
   "metadata": {},
   "outputs": [
    {
     "data": {
      "text/plain": [
       "<matplotlib.axes._subplots.AxesSubplot at 0x1a1521d0b8>"
      ]
     },
     "execution_count": 21,
     "metadata": {},
     "output_type": "execute_result"
    },
    {
     "data": {
      "image/png": "[encoded data removed]",
      "text/plain": [
       "<matplotlib.figure.Figure at 0x1a15201a58>"
      ]
     },
     "metadata": {},
     "output_type": "display_data"
    }
   ],
   "source": [
    "\n",
    "total_survival_rate = caculate_survival_rate(titanic_data)\n",
    "male_survival_rate = caculate_survival_rate(titanic_data[titanic_data.Sex=='male'])\n",
    "female_survival_rate = caculate_survival_rate(titanic_data[titanic_data.Sex=='female'])\n",
    "chidren_survival_rate = caculate_survival_rate(titanic_data[titanic_data.Age<=18])\n",
    "older_60_survival_rate = caculate_survival_rate(titanic_data[titanic_data.Age>=60])\n",
    "older_70_survival_rate = caculate_survival_rate(titanic_data[titanic_data.Age>=70])\n",
    "lowerclass_survival_rate = caculate_survival_rate(titanic_data[titanic_data.Pclass==3])\n",
    "middleclass_survival_rate = caculate_survival_rate(titanic_data[titanic_data.Pclass==2])\n",
    "upperclass_survival_rate = caculate_survival_rate(titanic_data[titanic_data.Pclass==1])\n",
    "\n",
    "type (male_survival_rate)\n",
    "                                       \n",
    "survival_rate_data = [[male_survival_rate], \n",
    "        [female_survival_rate], \n",
    "        [chidren_survival_rate], \n",
    "        [older_60_survival_rate], \n",
    "        [older_70_survival_rate], \n",
    "        [lowerclass_survival_rate], \n",
    "        [middleclass_survival_rate], \n",
    "        [upperclass_survival_rate]]\n",
    "\n",
    "survival_rate_index = ['male_survival_rate', 'female_survival_rate', \n",
    "         'chidren_survival_rate', 'older_60_survival_rate', \n",
    "         'older_70_survival_rate', 'lowerclass_survival_rate', \n",
    "         'middleclass_survival_rate', 'upperclass_survival_rate']\n",
    "\n",
    "\n",
    "survival_rate = pd.DataFrame(data = survival_rate_data, index = survival_rate_index, columns = ['survival rate'])                          \n",
    "\n",
    "\n",
    "\n",
    "survival_rate.plot.barh(title='survival_rate',color=['#00BFFF'])\n",
    "                                       "
   ]
  },
  {
   "cell_type": "markdown",
   "metadata": {},
   "source": [
    "**1. gender:**\n",
    "\n",
    "It is clear that survival is related to gender. Survival of female is much higher than male. To take a closer look:"
   ]
  },
  {
   "cell_type": "code",
   "execution_count": 22,
   "metadata": {},
   "outputs": [
    {
     "data": {
      "text/plain": [
       "<matplotlib.axes._subplots.AxesSubplot at 0x110446240>"
      ]
     },
     "execution_count": 22,
     "metadata": {},
     "output_type": "execute_result"
    },
    {
     "data": {
      "image/png": "[encoded data removed]",
      "text/plain": [
       "<matplotlib.figure.Figure at 0x1103525f8>"
      ]
     },
     "metadata": {},
     "output_type": "display_data"
    }
   ],
   "source": [
    "m_f_survival_rate = pd.DataFrame(data = [[male_survival_rate], \n",
    "                                    [female_survival_rate], \n",
    "                                    [total_survival_rate]\n",
    "                                    ],\n",
    "                                 index = ['male', 'female', 'total'],\n",
    "                                 columns = ['survival rate']\n",
    ")                          \n",
    "\n",
    "m_f_survival_rate.plot.barh(title='survival_rate & gender',color=['#00BFFF',  '#87CEFA','#1E90FF'])\n",
    "                                       "
   ]
  },
  {
   "cell_type": "markdown",
   "metadata": {},
   "source": [
    "**2. class:**\n",
    "\n",
    "Compared total survival rate and survival rate of each class, the survival rate of lower class is lower. And we can remember the lower class contain most passengers. If you remember the pie gragh *Pclass distribution*, you will know over half of total population travelled in lower class."
   ]
  },
  {
   "cell_type": "code",
   "execution_count": 23,
   "metadata": {},
   "outputs": [
    {
     "data": {
      "text/plain": [
       "<matplotlib.axes._subplots.AxesSubplot at 0x1a1521bf28>"
      ]
     },
     "execution_count": 23,
     "metadata": {},
     "output_type": "execute_result"
    },
    {
     "data": {
      "image/png": "[encoded data removed]",
      "text/plain": [
       "<matplotlib.figure.Figure at 0x1a152d04a8>"
      ]
     },
     "metadata": {},
     "output_type": "display_data"
    }
   ],
   "source": [
    "m_f_survival_rate = pd.DataFrame(data = [[upperclass_survival_rate], \n",
    "                                    [middleclass_survival_rate], \n",
    "                                    [lowerclass_survival_rate],\n",
    "                                    [total_survival_rate]\n",
    "                                    ],\n",
    "                                 index = ['upperclass', 'middleclass','lowerclass', 'total'],\n",
    "                                 columns = ['survival rate']                                \n",
    ")                          \n",
    "\n",
    "m_f_survival_rate.plot.barh(title='survival_rate & class',color=['#00BFFF','#87CEFA','#1E90FF'])\n",
    "                                       "
   ]
  },
  {
   "cell_type": "markdown",
   "metadata": {},
   "source": [
    "**3. age:**\n",
    "\n",
    "It seems age would influence the survival. I am going to plot the servival rate of each age group. \n",
    "\n",
    "First I find out ages of the oldest and the youngest passenger. The youngest passenger is 0.42 year old, and the oldest passenger is 80. Grouping by each 10 years, I caculate the survival rate of each group."
   ]
  },
  {
   "cell_type": "code",
   "execution_count": 24,
   "metadata": {},
   "outputs": [
    {
     "name": "stdout",
     "output_type": "stream",
     "text": [
      "0.42 80.0\n"
     ]
    }
   ],
   "source": [
    "print(titanic_data['Age'].min(),titanic_data['Age'].max())"
   ]
  },
  {
   "cell_type": "code",
   "execution_count": 25,
   "metadata": {},
   "outputs": [
    {
     "data": {
      "text/plain": [
       "<matplotlib.axes._subplots.AxesSubplot at 0x1a154d9390>"
      ]
     },
     "execution_count": 25,
     "metadata": {},
     "output_type": "execute_result"
    },
    {
     "data": {
      "image/png": "[encoded data removed]",
      "text/plain": [
       "<matplotlib.figure.Figure at 0x1a154e1d30>"
      ]
     },
     "metadata": {},
     "output_type": "display_data"
    }
   ],
   "source": [
    "population_age = [[0]*8, [0]*8]\n",
    "\n",
    "\n",
    "\n",
    "for i in titanic_data['PassengerId']:\n",
    "    if titanic_data['Age'][i-1] <= 10: \n",
    "        population_age[0][0] += 1\n",
    "        population_age[1][0] += titanic_data['Survived'][i-1]\n",
    "    elif titanic_data['Age'][i-1] <= 20: \n",
    "        population_age[0][1] += 1\n",
    "        population_age[1][1] += titanic_data['Survived'][i-1]\n",
    "    elif titanic_data['Age'][i-1] <= 30: \n",
    "        population_age[0][2] += 1\n",
    "        population_age[1][2] += titanic_data['Survived'][i-1]\n",
    "    elif titanic_data['Age'][i-1] <= 40: \n",
    "        population_age[0][3] += 1\n",
    "        population_age[1][3] += titanic_data['Survived'][i-1]\n",
    "    elif titanic_data['Age'][i-1] <= 50: \n",
    "        population_age[0][4] += 1\n",
    "        population_age[1][4] += titanic_data['Survived'][i-1]\n",
    "    elif titanic_data['Age'][i-1] <= 60: \n",
    "        population_age[0][5] += 1\n",
    "        population_age[1][5] += titanic_data['Survived'][i-1]\n",
    "    elif titanic_data['Age'][i-1] <= 70: \n",
    "        population_age[0][6] += 1\n",
    "        population_age[1][6] += titanic_data['Survived'][i-1]\n",
    "    elif titanic_data['Age'][i-1] <= 80: \n",
    "        population_age[0][7] += 1\n",
    "        population_age[1][7] += titanic_data['Survived'][i-1]\n",
    "\n",
    "age_survival = pd.DataFrame(data = population_age, \n",
    "                                   index = ['total','survival'],\n",
    "                                   columns = ['0-10','10-20','20-30','30-40','40-50','50-60','60-70','70-80']\n",
    "                                  )\n",
    "age_survival = age_survival.T \n",
    "age_survivalrate = age_survival['survival'] / age_survival ['total']\n",
    "\n",
    "age_survival.plot.barh(title='survival  & age',color=['#00BFFF',  '#87CEFA','#1E90FF'])\n"
   ]
  },
  {
   "cell_type": "code",
   "execution_count": 26,
   "metadata": {},
   "outputs": [
    {
     "name": "stdout",
     "output_type": "stream",
     "text": [
      "0-10     0.593750\n",
      "10-20    0.382609\n",
      "20-30    0.334152\n",
      "30-40    0.445161\n",
      "40-50    0.383721\n",
      "50-60    0.404762\n",
      "60-70    0.235294\n",
      "70-80    0.200000\n",
      "dtype: float64\n"
     ]
    },
    {
     "data": {
      "image/png": "[encoded data removed]",
      "text/plain": [
       "<matplotlib.figure.Figure at 0x1a15482518>"
      ]
     },
     "metadata": {},
     "output_type": "display_data"
    }
   ],
   "source": [
    "age_survivalrate.plot.barh(title='survival_rate & age',color=['#00BFFF'])                           \n",
    "print(age_survivalrate)"
   ]
  },
  {
   "cell_type": "markdown",
   "metadata": {},
   "source": [
    "According to above, I sujest when a passenger fullfill the conditions as follow, she is more likely to survive.\n",
    "\n",
    "+ a child\n",
    "+ a female\n",
    "+ in upper class\n",
    "\n",
    "In fact the only passenger in data who fullfill these conditions is Miss. Helen, a two year old girl, who did not survive."
   ]
  },
  {
   "cell_type": "code",
   "execution_count": 27,
   "metadata": {},
   "outputs": [
    {
     "name": "stdout",
     "output_type": "stream",
     "text": [
      "     PassengerId  Survived  Pclass                          Name     Sex  Age  \\\n",
      "297          298         0       1  Allison, Miss. Helen Loraine  female  2.0   \n",
      "\n",
      "     SibSp  Parch  Ticket    Fare    Cabin Embarked  \n",
      "297      1      2  113781  151.55  C22 C26        S  \n"
     ]
    }
   ],
   "source": [
    "female_data = titanic_data[titanic_data.Sex=='female']\n",
    "female_upperclass_data = female_data[female_data.Pclass==1]\n",
    "female_upperclass_age0_data = female_upperclass_data[female_upperclass_data.Age<=10]\n",
    "female_upperclass_age0_survival_rate = caculate_survival_rate(female_upperclass_age0_data)\n",
    "print( female_upperclass_age0_data)"
   ]
  },
  {
   "cell_type": "markdown",
   "metadata": {},
   "source": [
    "However, the pobability to survive is really high if you are a female in first class."
   ]
  },
  {
   "cell_type": "code",
   "execution_count": 28,
   "metadata": {},
   "outputs": [
    {
     "name": "stdout",
     "output_type": "stream",
     "text": [
      "0.968085106383\n"
     ]
    }
   ],
   "source": [
    "female_data = titanic_data[titanic_data.Sex=='female']\n",
    "female_upperclass_data = female_data[female_data.Pclass==1]\n",
    "female_upperclass_survival_rate = caculate_survival_rate(female_upperclass_data)\n",
    "print( female_upperclass_survival_rate)"
   ]
  },
  {
   "cell_type": "markdown",
   "metadata": {},
   "source": [
    "Therefore here is a thing i have to mention:\n",
    "\n",
    "Although gender, age, class are probably factors influencing the survival, the result would be different in different condiction. For example, if we consider the group of children under 10, the gender factor will not influence the survival.\n"
   ]
  },
  {
   "cell_type": "code",
   "execution_count": 29,
   "metadata": {},
   "outputs": [
    {
     "data": {
      "text/plain": [
       "<matplotlib.axes._subplots.AxesSubplot at 0x1a15215908>"
      ]
     },
     "execution_count": 29,
     "metadata": {},
     "output_type": "execute_result"
    },
    {
     "data": {
      "image/png": "[encoded data removed]",
      "text/plain": [
       "<matplotlib.figure.Figure at 0x1a153f2780>"
      ]
     },
     "metadata": {},
     "output_type": "display_data"
    }
   ],
   "source": [
    "children_data = titanic_data[titanic_data.Age < 10]\n",
    "children_sex_number = children_data.groupby('Sex').count()['PassengerId']\n",
    "children_sex_servival = children_data.groupby('Sex').sum()['Survived']\n",
    "children_sex_servival_rate = children_sex_servival / children_sex_number\n",
    "\n",
    "children_sex_servival_rate.plot.barh(title='survival & sex when age<10 ',color=['#00BFFF',  '#87CEFA','#1E90FF'])\n"
   ]
  },
  {
   "cell_type": "markdown",
   "metadata": {},
   "source": [
    "And I take a look at other few cross-condition datas (passengers full fill more than one condictions):\n",
    "\n",
    "Females in lower class had a survival as 50%, much lower than upper class females, and males in lowerclass were even with bigger sacrify. However, the survival rate of male in upper class is 36.9%, which is lower than the total survival rate."
   ]
  },
  {
   "cell_type": "code",
   "execution_count": 30,
   "metadata": {},
   "outputs": [
    {
     "name": "stdout",
     "output_type": "stream",
     "text": [
      "0.5\n"
     ]
    }
   ],
   "source": [
    "female_data = titanic_data[titanic_data.Sex=='female']\n",
    "female_lowerclass_data = female_data[female_data.Pclass==3]\n",
    "female_lowerclass_survival_rate = caculate_survival_rate(female_lowerclass_data)\n",
    "print( female_lowerclass_survival_rate)"
   ]
  },
  {
   "cell_type": "code",
   "execution_count": 31,
   "metadata": {},
   "outputs": [
    {
     "name": "stdout",
     "output_type": "stream",
     "text": [
      "0.368852459016\n"
     ]
    }
   ],
   "source": [
    "male_data = titanic_data[titanic_data.Sex=='male']\n",
    "male_upperclass_data = male_data[male_data.Pclass==1]\n",
    "male_upperclass_survival_rate = caculate_survival_rate(male_upperclass_data)\n",
    "print( male_upperclass_survival_rate)"
   ]
  },
  {
   "cell_type": "code",
   "execution_count": 32,
   "metadata": {},
   "outputs": [
    {
     "name": "stdout",
     "output_type": "stream",
     "text": [
      "0.135446685879\n"
     ]
    }
   ],
   "source": [
    "male_data = titanic_data[titanic_data.Sex=='male']\n",
    "male_lowerclass_data = male_data[male_data.Pclass==3]\n",
    "male_lowerclass_survival_rate = caculate_survival_rate(male_lowerclass_data)\n",
    "print( male_lowerclass_survival_rate)"
   ]
  },
  {
   "cell_type": "code",
   "execution_count": null,
   "metadata": {},
   "outputs": [],
   "source": []
  },
  {
   "cell_type": "code",
   "execution_count": null,
   "metadata": {},
   "outputs": [],
   "source": []
  }
 ],
 "metadata": {
  "kernelspec": {
   "display_name": "Python 3",
   "language": "python",
   "name": "python3"
  },
  "language_info": {
   "codemirror_mode": {
    "name": "ipython",
    "version": 3
   },
   "file_extension": ".py",
   "mimetype": "text/x-python",
   "name": "python",
   "nbconvert_exporter": "python",
   "pygments_lexer": "ipython3",
   "version": "3.6.3"
  }
 },
 "nbformat": 4,
 "nbformat_minor": 2
}
